{
 "cells": [
  {
   "cell_type": "markdown",
   "id": "cdda8dc6",
   "metadata": {},
   "source": [
    "#### Necessary packages"
   ]
  },
  {
   "cell_type": "code",
   "execution_count": 1,
   "id": "36b5c1a6",
   "metadata": {},
   "outputs": [],
   "source": [
    "import miditoolkit\n",
    "import utils"
   ]
  },
  {
   "cell_type": "markdown",
   "id": "c249204b",
   "metadata": {},
   "source": [
    "#### Read midi"
   ]
  },
  {
   "cell_type": "code",
   "execution_count": 2,
   "id": "b2c65ac7",
   "metadata": {},
   "outputs": [],
   "source": [
    "file_name = \"196.mid\"\n",
    "midi_obj = miditoolkit.midi.parser.MidiFile(file_name)"
   ]
  },
  {
   "cell_type": "markdown",
   "id": "29f39a8e",
   "metadata": {},
   "source": [
    "#### Read raw token"
   ]
  },
  {
   "cell_type": "code",
   "execution_count": 3,
   "id": "4e55885f",
   "metadata": {},
   "outputs": [
    {
     "data": {
      "text/plain": [
       "[Item(name=Note, start=0, end=1680, velocity=56, pitch=51, Type=2, Program=-1, Time Signature=00),\n",
       " Item(name=Note, start=0, end=2040, velocity=62, pitch=58, Type=2, Program=-1, Time Signature=00),\n",
       " Item(name=Note, start=0, end=600, velocity=56, pitch=63, Type=2, Program=-1, Time Signature=00)]"
      ]
     },
     "execution_count": 3,
     "metadata": {},
     "output_type": "execute_result"
    }
   ],
   "source": [
    "note_raw, tempo_raw = utils.read_items(file_name)\n",
    "\n",
    "# Peek the first 3 raw tokens\n",
    "note_raw[0:3]"
   ]
  },
  {
   "cell_type": "markdown",
   "id": "67f65f60",
   "metadata": {},
   "source": [
    "#### Read 'Program' to the raw token\n",
    "Observation:\n",
    "- *Type=2* indicates it belongs to the thrid channel.\n",
    "\n",
    "P.S. 'Program' is appended into each note."
   ]
  },
  {
   "cell_type": "code",
   "execution_count": 4,
   "id": "8a8253e3",
   "metadata": {},
   "outputs": [],
   "source": [
    "def Type2Program(midi_obj, channel):\n",
    "    '''Get Program Change Number from the instrument name at a specified channel\n",
    "    \n",
    "    Parameters:\n",
    "        midi_obj (MidiFile): from miditoolkit.midi.parser.MidiFile\n",
    "        channel (int): the index of the channel, 0-based\n",
    "        \n",
    "    Returns:\n",
    "        int: Program Change Number, 0-based\n",
    "    \n",
    "    '''\n",
    "    instrument = midi_obj.instruments[channel]\n",
    "    \n",
    "    # Assume Acoustic Grand Piano only\n",
    "    return 0\n",
    "    \n",
    "    if instrument.name == \"piano\": # Acoustic Grand Piano\n",
    "        return 0\n",
    "    \n",
    "    # TODO: support other program change number\n",
    "    return -1"
   ]
  },
  {
   "cell_type": "code",
   "execution_count": 5,
   "id": "065d4de8",
   "metadata": {},
   "outputs": [
    {
     "data": {
      "text/plain": [
       "[Item(name=Note, start=0, end=1680, velocity=56, pitch=51, Type=2, Program=0, Time Signature=00),\n",
       " Item(name=Note, start=0, end=2040, velocity=62, pitch=58, Type=2, Program=0, Time Signature=00),\n",
       " Item(name=Note, start=0, end=600, velocity=56, pitch=63, Type=2, Program=0, Time Signature=00)]"
      ]
     },
     "execution_count": 5,
     "metadata": {},
     "output_type": "execute_result"
    }
   ],
   "source": [
    "# Add 'Program' to each raw token\n",
    "for i in note_raw:\n",
    "    i.Program = Type2Program(midi_obj, i.Type)\n",
    "\n",
    "# Peek the first 3 modified raw tokens\n",
    "note_raw[0:3]"
   ]
  },
  {
   "cell_type": "markdown",
   "id": "9b66f5c0",
   "metadata": {},
   "source": [
    "#### Read 'Time Signature' to the raw token\n",
    "P.S. 'Time Signature' is appended into each note."
   ]
  },
  {
   "cell_type": "code",
   "execution_count": 6,
   "id": "9ec6397c",
   "metadata": {},
   "outputs": [],
   "source": [
    "def raw_time_signature(midi_obj, time):\n",
    "    '''Get Time Signature at a specified time\n",
    "\n",
    "    Parameters:\n",
    "        midi_obj (MidiFile): from miditoolkit.midi.parser.MidiFile\n",
    "        time (int): the acquired time\n",
    "        \n",
    "    Returns:\n",
    "        str: the Time Signature at that time\n",
    "    \n",
    "    '''\n",
    "    ts_list = [i.time for i in midi_obj.time_signature_changes]\n",
    "    \n",
    "    idx = -1\n",
    "    if time >= ts_list[-1]:\n",
    "    # It belongs to the last time signature\n",
    "        idx = len(ts_list)-1\n",
    "    else: \n",
    "    # It belongs to a specific interval\n",
    "        for i in range(len(ts_list)):    \n",
    "            if time >= ts_list[i] and time < ts_list[i+1]:\n",
    "                idx = i\n",
    "                break\n",
    "            \n",
    "    numerator = midi_obj.time_signature_changes[idx].numerator\n",
    "    denominator = midi_obj.time_signature_changes[idx].denominator\n",
    "    return f\"{numerator}{denominator}\""
   ]
  },
  {
   "cell_type": "code",
   "execution_count": 7,
   "id": "bb16a030",
   "metadata": {},
   "outputs": [
    {
     "data": {
      "text/plain": [
       "[Item(name=Note, start=0, end=1680, velocity=56, pitch=51, Type=2, Program=0, Time Signature=44),\n",
       " Item(name=Note, start=0, end=2040, velocity=62, pitch=58, Type=2, Program=0, Time Signature=44),\n",
       " Item(name=Note, start=0, end=600, velocity=56, pitch=63, Type=2, Program=0, Time Signature=44)]"
      ]
     },
     "execution_count": 7,
     "metadata": {},
     "output_type": "execute_result"
    }
   ],
   "source": [
    "# Add 'TimeSignature' to each raw token\n",
    "for i in note_raw:\n",
    "    i.TimeSignature = raw_time_signature(midi_obj, i.start)\n",
    "\n",
    "# Peek the first 3 modified raw tokens\n",
    "note_raw[0:3]"
   ]
  },
  {
   "cell_type": "markdown",
   "id": "d90af746",
   "metadata": {},
   "source": [
    "#### Next step: Generate sequence\n",
    "i.e. utils.py -> def item2event"
   ]
  },
  {
   "cell_type": "code",
   "execution_count": 8,
   "id": "dace027b",
   "metadata": {
    "scrolled": false
   },
   "outputs": [
    {
     "data": {
      "text/plain": [
       "[[Event(name=Bar, time=None, value=New, text=1, Type=-1),\n",
       "  Event(name=Position, time=0, value=1/24, text=0, Type=-1),\n",
       "  Event(name=Pitch, time=0, value=51, text=51, Type=-1),\n",
       "  Event(name=Duration, time=0, value=27, text=1680/1680, Type=-1),\n",
       "  Event(name=Program, time=0, value=0, text=0, Type=-1),\n",
       "  Event(name=Time Signature, time=0, value=44, text=44, Type=-1)],\n",
       " [Event(name=Bar, time=None, value=Continue, text=1, Type=-1),\n",
       "  Event(name=Position, time=0, value=1/24, text=0, Type=-1),\n",
       "  Event(name=Pitch, time=0, value=58, text=58, Type=-1),\n",
       "  Event(name=Duration, time=0, value=33, text=2040/2040, Type=-1),\n",
       "  Event(name=Program, time=0, value=0, text=0, Type=-1),\n",
       "  Event(name=Time Signature, time=0, value=44, text=44, Type=-1)],\n",
       " [Event(name=Bar, time=None, value=Continue, text=1, Type=-1),\n",
       "  Event(name=Position, time=0, value=1/24, text=0, Type=-1),\n",
       "  Event(name=Pitch, time=0, value=63, text=63, Type=-1),\n",
       "  Event(name=Duration, time=0, value=9, text=600/600, Type=-1),\n",
       "  Event(name=Program, time=0, value=0, text=0, Type=-1),\n",
       "  Event(name=Time Signature, time=0, value=44, text=44, Type=-1)]]"
      ]
     },
     "execution_count": 8,
     "metadata": {},
     "output_type": "execute_result"
    }
   ],
   "source": [
    "# Slice notes into groups\n",
    "note_groups = utils.group_items(items=note_raw, max_time=note_raw[-1].end)\n",
    "# Generate sequence\n",
    "sequence = utils.item2event(groups=note_groups, task='custom')\n",
    "\n",
    "# Peek the first 3 sequence\n",
    "sequence[0:3]"
   ]
  }
 ],
 "metadata": {
  "kernelspec": {
   "display_name": "Python 3",
   "language": "python",
   "name": "python3"
  },
  "language_info": {
   "codemirror_mode": {
    "name": "ipython",
    "version": 3
   },
   "file_extension": ".py",
   "mimetype": "text/x-python",
   "name": "python",
   "nbconvert_exporter": "python",
   "pygments_lexer": "ipython3",
   "version": "3.7.3"
  }
 },
 "nbformat": 4,
 "nbformat_minor": 5
}
