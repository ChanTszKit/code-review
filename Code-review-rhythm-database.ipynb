{
 "cells": [
  {
   "cell_type": "markdown",
   "id": "african-mining",
   "metadata": {},
   "source": [
    "# Objective\n",
    "Build a rhythm database.<br>\n",
    "Compare the target's rhythm with the rhythm database.<br>\n",
    "Create chords for the target based on the key and the matched rhythm.<br>"
   ]
  },
  {
   "cell_type": "markdown",
   "id": "concrete-teacher",
   "metadata": {},
   "source": [
    "# 1. Build Rhythm Database\n",
    "*Q: Build for what?<br>Ans: Build to compare the rhythms, find the best-matched pattern that fits the target.*\n",
    "\n",
    "Current implementation:<br>\n",
    "**Piano with 'left-hand' channel**<br>\n",
    "**A note cannot across multiple bars**\n",
    "\n",
    "Flow, for-each *.mid:<br>\n",
    "a. Get the 'left-hand' channel, which usually is the accompany.<br>\n",
    "b. Append each bar from 'left-hand' into the note-list.<br>\n",
    "c. Remove duplicate.<br>\n",
    "d. Save with pickle.<br>\n",
    "e. (Optional) Optimise query speed with locality sensitive hashing. <br>"
   ]
  },
  {
   "cell_type": "markdown",
   "id": "accepted-render",
   "metadata": {},
   "source": [
    "# 2. Extract target's rhythm *from the accompany channel(s)*\n",
    "*p.s. Drum is not considered an accompany*\n",
    "\n",
    "Definition:<br>\n",
    "Rhythm = note distribution in **a single** bar.\n",
    "\n",
    "Flow:<br>\n",
    "a-i. Find the accompany channel(/s), which is(/are) lower than pitch=54."
   ]
  },
  {
   "cell_type": "code",
   "execution_count": 48,
   "id": "starting-handy",
   "metadata": {},
   "outputs": [],
   "source": [
    "from miditoolkit.midi import parser as mid_parser\n",
    "\n",
    "def find_accompany(piece_name, threshold_pitch=54):\n",
    "    '''\n",
    "    Find the accompany channels which are lower than the threshold\n",
    "    \n",
    "    Parameters\n",
    "    ----------\n",
    "    piece_name : str\n",
    "        The name of the midi file.\n",
    "    threshold_pitch: int\n",
    "        The maximum pitch for accompany channels.\n",
    "\n",
    "    Returns\n",
    "    -------\n",
    "    list\n",
    "        The list of index of the chosen channels\n",
    "    '''\n",
    "    \n",
    "    # Parse midi file\n",
    "    mido_obj = mid_parser.MidiFile(piece_name)\n",
    "    \n",
    "    chosen_channel = []\n",
    "    # Choose the \"appropriate\" channel(s)\n",
    "    for idx, inst in enumerate(mido_obj.instruments):\n",
    "        # Drum is not considered an accompany\n",
    "        if inst.is_drum: continue\n",
    "            \n",
    "        # Calculate the average pitch\n",
    "        total_pitch = 0\n",
    "        total_note = 0\n",
    "        for note in inst.notes:\n",
    "            total_pitch += note.pitch\n",
    "            total_note += 1\n",
    "        avg_pitch = total_pitch/total_note\n",
    "        # Choose only if the pitch is lower than threshold\n",
    "        if avg_pitch <= threshold_pitch:\n",
    "            chosen_channel.append(idx)\n",
    "    \n",
    "    # At least 1 channel should be chosen. \n",
    "    # If not, choose the first channel.\n",
    "    if chosen_channel == []:\n",
    "        chosen_channel = [0]\n",
    "        \n",
    "    return chosen_channel"
   ]
  },
  {
   "cell_type": "markdown",
   "id": "employed-target",
   "metadata": {},
   "source": [
    "a-ii. Combine all notes from the chosen channels into 1-d list."
   ]
  },
  {
   "cell_type": "code",
   "execution_count": 50,
   "id": "rolled-positive",
   "metadata": {},
   "outputs": [],
   "source": [
    "def combine_accompany(piece_name, accompany_idx):\n",
    "    '''\n",
    "    Combine the chosen accompany channel(s).\n",
    "    \n",
    "    Parameters\n",
    "    ----------\n",
    "    piece_name : str\n",
    "        The name of the midi file.\n",
    "    idx: list (of int)\n",
    "        The list of index of the chosen channels\n",
    "\n",
    "    Returns\n",
    "    -------\n",
    "    list\n",
    "        The 1-d list of combined channels\n",
    "    '''\n",
    "    # Parse midi file\n",
    "    mido_obj = mid_parser.MidiFile(piece_name)\n",
    "    \n",
    "    final_notelist = []\n",
    "    # Combine the channels\n",
    "    for channel in accompany_idx:\n",
    "        for note in mido_obj.instruments[channel].notes:\n",
    "            final_notelist.append(note)\n",
    "    final_notelist = sorted(final_notelist,key = lambda x:x.start)\n",
    "    return final_notelist"
   ]
  },
  {
   "cell_type": "markdown",
   "id": "skilled-polls",
   "metadata": {},
   "source": [
    "b. Find the rhythm. \n",
    "\n",
    "*Q: What does class lhMatchInstance stand for?*<br>\n",
    "*A: ?*\n",
    "\n",
    "Just regard this as a black box:<br>\n",
    "b-i. Get time signature.<br>\n",
    "b-ii. Get each bar.<br>\n",
    "b-iii. Transform into rhythm.<br>\n",
    "| input=notes | -> | output=rhythm |<br>"
   ]
  },
  {
   "cell_type": "markdown",
   "id": "fallen-industry",
   "metadata": {},
   "source": [
    "# 3. Extract target's chord information\n",
    "-> chord-identification/.../pipeline.ipynb"
   ]
  },
  {
   "cell_type": "markdown",
   "id": "continued-science",
   "metadata": {},
   "source": [
    "# 4. Finalise\n",
    "Flow:<br>\n",
    "a. Extract the melody.<br>\n",
    "b. Match the rhythm.<br>\n",
    "c. Add chords.<br>\n",
    "d. Combine and output.<br>"
   ]
  },
  {
   "cell_type": "markdown",
   "id": "placed-stress",
   "metadata": {},
   "source": [
    "# Post-feedback\n",
    "Notice that you use LSTM/HMM to estimate the key, I would like to provide one more option.\n",
    "\n",
    "***Krumhansl-Schmuckler key-finding algorithm***\n",
    "\n",
    "It is a well-known statistic method in cognitive science, calculating the correlation of the key distribution. It should be the most lightweight method (if being lightweight is a key factor in the project).\n",
    "\n",
    "A well-described document: http://rnhart.net/articles/key-finding/"
   ]
  }
 ],
 "metadata": {
  "kernelspec": {
   "display_name": "Python 3",
   "language": "python",
   "name": "python3"
  },
  "language_info": {
   "codemirror_mode": {
    "name": "ipython",
    "version": 3
   },
   "file_extension": ".py",
   "mimetype": "text/x-python",
   "name": "python",
   "nbconvert_exporter": "python",
   "pygments_lexer": "ipython3",
   "version": "3.7.3"
  }
 },
 "nbformat": 4,
 "nbformat_minor": 5
}
