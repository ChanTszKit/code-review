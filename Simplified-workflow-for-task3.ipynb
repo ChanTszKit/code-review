{
 "cells": [
  {
   "cell_type": "markdown",
   "id": "numeric-logic",
   "metadata": {},
   "source": [
    "# New Tokens\n",
    "Ref: /dict/make_dict.py\n",
    "1. Add *Instrument 0-127,\\<special\\>*\n",
    "2. Define Time Signature (table)\n",
    "3. Add *Time Signature xx,\\<special\\>*\n",
    "\n",
    "\n",
    "Follow-up: Add *HANDLERS* to */prep_data/CP/__.py*"
   ]
  },
  {
   "cell_type": "markdown",
   "id": "sticky-majority",
   "metadata": {},
   "source": [
    "# Supplement Material\n",
    "\n",
    "Instrument 0-127 are listed on link.<br>\n",
    "Ref: https://en.wikipedia.org/wiki/General_MIDI#Program_change_events\n",
    "\n",
    "\n",
    "Instrument \\<special\\> are required for the model.<br>\n",
    "\n",
    "We shall define a table for Time Signature. <br>\n",
    "Ref: https://en.wikipedia.org/wiki/Time_signature#Simple_vs._compound"
   ]
  },
  {
   "cell_type": "markdown",
   "id": "shaped-stamp",
   "metadata": {},
   "source": [
    "# Goal\n",
    "To integrate the new token to the model"
   ]
  }
 ],
 "metadata": {
  "kernelspec": {
   "display_name": "Python 3",
   "language": "python",
   "name": "python3"
  },
  "language_info": {
   "codemirror_mode": {
    "name": "ipython",
    "version": 3
   },
   "file_extension": ".py",
   "mimetype": "text/x-python",
   "name": "python",
   "nbconvert_exporter": "python",
   "pygments_lexer": "ipython3",
   "version": "3.7.3"
  }
 },
 "nbformat": 4,
 "nbformat_minor": 5
}
