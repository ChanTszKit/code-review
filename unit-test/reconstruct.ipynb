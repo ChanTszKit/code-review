{
 "cells": [
  {
   "cell_type": "code",
   "execution_count": 1,
   "id": "f19566cb",
   "metadata": {},
   "outputs": [],
   "source": [
    "# Dependencies\n",
    "import numpy as np\n",
    "from miditoolkit.midi import parser as mid_parser  \n",
    "from miditoolkit.midi import containers as ct"
   ]
  },
  {
   "cell_type": "code",
   "execution_count": 2,
   "id": "8f9a6341",
   "metadata": {},
   "outputs": [],
   "source": [
    "# Special tokens\n",
    "PAD=np.array([2,24,86,64,96,4])\n",
    "EOS=np.array([4,26,88,66,98,6])\n",
    "ABS=np.array([5,27,89,67,99,7])"
   ]
  },
  {
   "cell_type": "code",
   "execution_count": 3,
   "id": "e9bbf2a2",
   "metadata": {},
   "outputs": [],
   "source": [
    "# Token sequence into midi\n",
    "def token2mid(page,out_path):\n",
    "    out = mid_parser.MidiFile()\n",
    "    out.ticks_per_beat = 480\n",
    "    out.instruments = [ct.Instrument(program=0,is_drum=False,name='reduction')]\n",
    "    current_beat=-1\n",
    "    for idx,token in enumerate(page):\n",
    "        print(token)\n",
    "        if (token==EOS).all():\n",
    "            break\n",
    "        assert((token!=PAD).all())\n",
    "        if token[0]==0 or (token==ABS).all():\n",
    "            current_beat+=1\n",
    "        if (token!=ABS).all():\n",
    "            n=token\n",
    "            out.instruments[0].notes.append(ct.Note(start=int(current_beat*4*out.ticks_per_beat+n[1]*out.ticks_per_beat/4),\n",
    "                                                        end=int(current_beat*4*out.ticks_per_beat+n[1]*out.ticks_per_beat/4+(n[3]+1)*(out.ticks_per_beat/8)),\n",
    "                                                        pitch=n[2]+22,\n",
    "                                                        velocity=90))\n",
    "    out.dump(out_path)"
   ]
  },
  {
   "cell_type": "code",
   "execution_count": 4,
   "id": "41a10d11",
   "metadata": {
    "scrolled": true
   },
   "outputs": [
    {
     "ename": "FileNotFoundError",
     "evalue": "[Errno 2] No such file or directory: 'check.npy'",
     "output_type": "error",
     "traceback": [
      "\u001b[0;31m---------------------------------------------------------------------------\u001b[0m",
      "\u001b[0;31mFileNotFoundError\u001b[0m                         Traceback (most recent call last)",
      "\u001b[0;32m<ipython-input-4-cb0a635a8d01>\u001b[0m in \u001b[0;36m<module>\u001b[0;34m\u001b[0m\n\u001b[0;32m----> 1\u001b[0;31m \u001b[0mcustom_token\u001b[0m \u001b[0;34m=\u001b[0m \u001b[0mnp\u001b[0m\u001b[0;34m.\u001b[0m\u001b[0mload\u001b[0m\u001b[0;34m(\u001b[0m\u001b[0;34m'check.npy'\u001b[0m\u001b[0;34m)\u001b[0m\u001b[0;34m\u001b[0m\u001b[0;34m\u001b[0m\u001b[0m\n\u001b[0m\u001b[1;32m      2\u001b[0m \u001b[0mfirst_song\u001b[0m \u001b[0;34m=\u001b[0m \u001b[0mcustom_token\u001b[0m\u001b[0;34m[\u001b[0m\u001b[0;36m0\u001b[0m\u001b[0;34m]\u001b[0m\u001b[0;34m\u001b[0m\u001b[0;34m\u001b[0m\u001b[0m\n\u001b[1;32m      3\u001b[0m \u001b[0mfirst_song\u001b[0m\u001b[0;34m\u001b[0m\u001b[0;34m\u001b[0m\u001b[0m\n",
      "\u001b[0;32m~/Library/Python/3.7/lib/python/site-packages/numpy/lib/npyio.py\u001b[0m in \u001b[0;36mload\u001b[0;34m(file, mmap_mode, allow_pickle, fix_imports, encoding)\u001b[0m\n\u001b[1;32m    415\u001b[0m             \u001b[0mown_fid\u001b[0m \u001b[0;34m=\u001b[0m \u001b[0;32mFalse\u001b[0m\u001b[0;34m\u001b[0m\u001b[0;34m\u001b[0m\u001b[0m\n\u001b[1;32m    416\u001b[0m         \u001b[0;32melse\u001b[0m\u001b[0;34m:\u001b[0m\u001b[0;34m\u001b[0m\u001b[0;34m\u001b[0m\u001b[0m\n\u001b[0;32m--> 417\u001b[0;31m             \u001b[0mfid\u001b[0m \u001b[0;34m=\u001b[0m \u001b[0mstack\u001b[0m\u001b[0;34m.\u001b[0m\u001b[0menter_context\u001b[0m\u001b[0;34m(\u001b[0m\u001b[0mopen\u001b[0m\u001b[0;34m(\u001b[0m\u001b[0mos_fspath\u001b[0m\u001b[0;34m(\u001b[0m\u001b[0mfile\u001b[0m\u001b[0;34m)\u001b[0m\u001b[0;34m,\u001b[0m \u001b[0;34m\"rb\"\u001b[0m\u001b[0;34m)\u001b[0m\u001b[0;34m)\u001b[0m\u001b[0;34m\u001b[0m\u001b[0;34m\u001b[0m\u001b[0m\n\u001b[0m\u001b[1;32m    418\u001b[0m             \u001b[0mown_fid\u001b[0m \u001b[0;34m=\u001b[0m \u001b[0;32mTrue\u001b[0m\u001b[0;34m\u001b[0m\u001b[0;34m\u001b[0m\u001b[0m\n\u001b[1;32m    419\u001b[0m \u001b[0;34m\u001b[0m\u001b[0m\n",
      "\u001b[0;31mFileNotFoundError\u001b[0m: [Errno 2] No such file or directory: 'check.npy'"
     ]
    }
   ],
   "source": [
    "custom_token = np.load('tokens.npy')\n",
    "first_song = custom_token[0]\n",
    "first_song"
   ]
  },
  {
   "cell_type": "code",
   "execution_count": null,
   "id": "ab38d206",
   "metadata": {},
   "outputs": [],
   "source": [
    "token2mid(first_song,'check.mid')"
   ]
  }
 ],
 "metadata": {
  "kernelspec": {
   "display_name": "Python 3",
   "language": "python",
   "name": "python3"
  },
  "language_info": {
   "codemirror_mode": {
    "name": "ipython",
    "version": 3
   },
   "file_extension": ".py",
   "mimetype": "text/x-python",
   "name": "python",
   "nbconvert_exporter": "python",
   "pygments_lexer": "ipython3",
   "version": "3.7.3"
  }
 },
 "nbformat": 4,
 "nbformat_minor": 5
}
