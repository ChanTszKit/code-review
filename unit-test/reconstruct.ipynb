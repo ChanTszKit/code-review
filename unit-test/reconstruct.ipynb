{
 "cells": [
  {
   "cell_type": "code",
   "execution_count": 1,
   "id": "f19566cb",
   "metadata": {},
   "outputs": [],
   "source": [
    "# Dependencies\n",
    "import numpy as np\n",
    "from miditoolkit.midi import parser as mid_parser  \n",
    "from miditoolkit.midi import containers as ct"
   ]
  },
  {
   "cell_type": "code",
   "execution_count": 2,
   "id": "8f9a6341",
   "metadata": {},
   "outputs": [],
   "source": [
    "# Special tokens\n",
    "PAD=np.array([2,24,86,64,96,4])\n",
    "EOS=np.array([4,26,88,66,98,6])\n",
    "ABS=np.array([5,27,89,67,99,7])"
   ]
  },
  {
   "cell_type": "code",
   "execution_count": 3,
   "id": "e9bbf2a2",
   "metadata": {},
   "outputs": [],
   "source": [
    "# Token sequence into midi\n",
    "def token2mid(page,out_path):\n",
    "    out = mid_parser.MidiFile()\n",
    "    out.ticks_per_beat = 480\n",
    "    out.instruments = [ct.Instrument(program=0,is_drum=False,name='reduction')]\n",
    "    current_beat=-1\n",
    "    for idx,token in enumerate(page):\n",
    "        if (token==EOS).all():\n",
    "            break\n",
    "        assert((token!=PAD).all())\n",
    "        if token[0]==0 or (token==ABS).all():\n",
    "            current_beat+=1\n",
    "        if (token!=ABS).all():\n",
    "            n=token\n",
    "            out.instruments[0].notes.append(ct.Note(start=int(current_beat*4*out.ticks_per_beat+n[1]*out.ticks_per_beat/4),\n",
    "                                                        end=int(current_beat*4*out.ticks_per_beat+n[1]*out.ticks_per_beat/4+(n[3]+1)*(out.ticks_per_beat/8)),\n",
    "                                                        pitch=n[2]+22,\n",
    "                                                        velocity=90))\n",
    "    out.dump(out_path)"
   ]
  },
  {
   "cell_type": "code",
   "execution_count": 4,
   "id": "41a10d11",
   "metadata": {
    "scrolled": true
   },
   "outputs": [
    {
     "data": {
      "text/plain": [
       "array([[ 0, 16, 29, 27,  0,  3],\n",
       "       [ 1, 16, 36, 32,  0,  3],\n",
       "       [ 1, 16, 41,  9,  0,  3],\n",
       "       ...,\n",
       "       [ 1, 16, 29, 25,  0,  3],\n",
       "       [ 1, 16, 41,  2,  0,  3],\n",
       "       [ 1, 16, 43, 12,  0,  3]])"
      ]
     },
     "execution_count": 4,
     "metadata": {},
     "output_type": "execute_result"
    }
   ],
   "source": [
    "custom_token = np.load('tokens.npy')\n",
    "first_song = custom_token[0]\n",
    "first_song"
   ]
  },
  {
   "cell_type": "code",
   "execution_count": 5,
   "id": "ab38d206",
   "metadata": {},
   "outputs": [],
   "source": [
    "token2mid(first_song,'out.mid')"
   ]
  }
 ],
 "metadata": {
  "kernelspec": {
   "display_name": "Python 3",
   "language": "python",
   "name": "python3"
  },
  "language_info": {
   "codemirror_mode": {
    "name": "ipython",
    "version": 3
   },
   "file_extension": ".py",
   "mimetype": "text/x-python",
   "name": "python",
   "nbconvert_exporter": "python",
   "pygments_lexer": "ipython3",
   "version": "3.7.3"
  }
 },
 "nbformat": 4,
 "nbformat_minor": 5
}
