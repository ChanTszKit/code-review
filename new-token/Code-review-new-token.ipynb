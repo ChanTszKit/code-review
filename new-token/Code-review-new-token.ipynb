{
 "cells": [
  {
   "cell_type": "markdown",
   "id": "chubby-peninsula",
   "metadata": {},
   "source": [
    "Week 20/6-26/6: \n",
    "1. Run scripts as a black box; \n",
    "2. Prepare environment & sample midi. \n",
    "3. Modify token. *(DONE)*\n",
    "4. Analyse prepare_data/*.py.\n",
    "\n",
    "Week 26/6-3/7:\n",
    "1. Modify prepare_data/*.py. (ongoing)"
   ]
  },
  {
   "cell_type": "markdown",
   "id": "forced-cliff",
   "metadata": {},
   "source": [
    "# Goal: token dictionary -> input for pre-trained model;\n",
    "*e.g. CP.pkl -> pop909_train.npy*\n",
    "> Goal:<br>\n",
    "> \\\\$ cd prepare_data/CP <br>\n",
    "> \\\\$ python3 main.py --dataset=pop909\n",
    "\n",
    "> Check:<br>\n",
    "> \\\\$ cd ../../data/CP <br>\n",
    "> \\\\$ ls pop909_train.npy\n",
    "\n",
    "\n",
    "**main.py:** root/prepare_data/CP/main.py<br>\n",
    "> Default assumption:\n",
    "> 1. Token: root/**dict/CP.pkl** exists.\n",
    "> 2. Dataset: root/**dataset/NAME/*.mid** exist. <br>\n",
    "> \\- We are going to use SOD.\n",
    "\n",
    "> Output: (root/data/CP)\n",
    "> 1. pop909_test.npy\n",
    "> 2. pop909_train.npy\n",
    "> 3. pop909_valid.npy\n",
    "\n",
    "> Post-action:\n",
    "> 1. Feed the .npy to the pre-trained model."
   ]
  },
  {
   "cell_type": "markdown",
   "id": "ranking-victoria",
   "metadata": {},
   "source": [
    "# Environment"
   ]
  },
  {
   "cell_type": "code",
   "execution_count": 1,
   "id": "appreciated-union",
   "metadata": {},
   "outputs": [],
   "source": [
    "# For interactive environment\n",
    "%load_ext autoreload\n",
    "%autoreload 2\n",
    "# All scripts are now linked dynamically"
   ]
  },
  {
   "cell_type": "code",
   "execution_count": 2,
   "id": "valid-wesley",
   "metadata": {},
   "outputs": [],
   "source": [
    "# For jupyter-notebook environment\n",
    "%run make_dict\n",
    "from moredebug import *"
   ]
  },
  {
   "cell_type": "markdown",
   "id": "extreme-radiation",
   "metadata": {},
   "source": [
    "1. Download POP909 as root/dataset/POP909\n",
    "2. Preprocess *.mid into root/dataset/POP909/train\n",
    "\n",
    "> Preprocess: <br>\n",
    "> \\\\$ cd root/preprocess_pop909 <br>\n",
    "> \\\\$ python3 exploratory.py <br>\n",
    "> \\\\$ python3 preprocess.py\n",
    "\n",
    "> Check: <br>\n",
    "> \\\\$ cd ../dataset/POP909 <br>\n",
    "> \\\\$ ls train"
   ]
  },
  {
   "cell_type": "markdown",
   "id": "statewide-clinton",
   "metadata": {},
   "source": [
    "# Token Dictionary (.pickle)"
   ]
  },
  {
   "cell_type": "markdown",
   "id": "future-garbage",
   "metadata": {},
   "source": [
    "1. Instrument <br>\n",
    "\\- Reuse given \"Program\""
   ]
  },
  {
   "cell_type": "code",
   "execution_count": 13,
   "id": "contrary-august",
   "metadata": {
    "scrolled": true
   },
   "outputs": [
    {
     "data": {
      "text/plain": [
       "{'Program 86': 86,\n",
       " 'Program 87': 87,\n",
       " 'Program 88': 88,\n",
       " 'Program 89': 89,\n",
       " 'Program 90': 90,\n",
       " 'Program 91': 91,\n",
       " 'Program 92': 92,\n",
       " 'Program 93': 93,\n",
       " 'Program 94': 94,\n",
       " 'Program 95': 95}"
      ]
     },
     "execution_count": 13,
     "metadata": {},
     "output_type": "execute_result"
    }
   ],
   "source": [
    "# Instrument === Program \n",
    "dict_tail(event2word[\"Program\"], offset=5)"
   ]
  },
  {
   "cell_type": "markdown",
   "id": "written-arrival",
   "metadata": {},
   "source": [
    "2. Time Signature<br>\n",
    "\\- The implementation is straightforward."
   ]
  },
  {
   "cell_type": "code",
   "execution_count": 4,
   "id": "alleged-delivery",
   "metadata": {
    "scrolled": true
   },
   "outputs": [
    {
     "data": {
      "text/plain": [
       "{'Time Signature 22': 0,\n",
       " 'Time Signature 24': 1,\n",
       " 'Time Signature 34': 2,\n",
       " 'Time Signature 44': 3,\n",
       " 'Time Signature <PAD>': 4,\n",
       " 'Time Signature <MASK>': 5,\n",
       " 'Time Signature <EOS>': 6,\n",
       " 'Time Signature <ABS>': 7,\n",
       " 'Time Signature <BOS>': 8}"
      ]
     },
     "execution_count": 4,
     "metadata": {},
     "output_type": "execute_result"
    }
   ],
   "source": [
    "# Time Signature\n",
    "event2word[\"Time Signature\"]"
   ]
  },
  {
   "cell_type": "markdown",
   "id": "comparative-valuation",
   "metadata": {},
   "source": [
    "# Modify model"
   ]
  },
  {
   "cell_type": "markdown",
   "id": "premium-mention",
   "metadata": {},
   "source": [
    "skyline.py -> def generate:"
   ]
  },
  {
   "cell_type": "code",
   "execution_count": 14,
   "id": "satellite-resolution",
   "metadata": {},
   "outputs": [],
   "source": [
    "# ongoing"
   ]
  }
 ],
 "metadata": {
  "kernelspec": {
   "display_name": "Python 3",
   "language": "python",
   "name": "python3"
  },
  "language_info": {
   "codemirror_mode": {
    "name": "ipython",
    "version": 3
   },
   "file_extension": ".py",
   "mimetype": "text/x-python",
   "name": "python",
   "nbconvert_exporter": "python",
   "pygments_lexer": "ipython3",
   "version": "3.7.3"
  }
 },
 "nbformat": 4,
 "nbformat_minor": 5
}
